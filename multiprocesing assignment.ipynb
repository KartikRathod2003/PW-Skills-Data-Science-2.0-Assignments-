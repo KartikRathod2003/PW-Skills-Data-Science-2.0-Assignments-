{
 "cells": [
  {
   "cell_type": "markdown",
   "id": "9b7d3648-da9b-4cdc-b1cc-cddaabe7e94c",
   "metadata": {},
   "source": [
    "Multiprocessing"
   ]
  },
  {
   "cell_type": "code",
   "execution_count": 2,
   "id": "fd343350-9c4e-4aa2-83d0-22feceb506d6",
   "metadata": {},
   "outputs": [],
   "source": [
    "# Q1. What is multiprocessing in python? Why is it useful?"
   ]
  },
  {
   "cell_type": "markdown",
   "id": "e5caa608-7275-4dcd-b74b-40177b18f934",
   "metadata": {},
   "source": [
    "ans:-\n",
    "Multiprocessing in Python is a module that allows you to create and manage multiple processes, enabling parallel execution of tasks. Each process runs independently with its own memory space, unlike threads which share the same memory. This is particularly useful for CPU-bound tasks, where you need to perform heavy computations, as it allows Python to bypass the Global Interpreter Lock (GIL) that limits the execution of threads to one at a time.\n",
    "\n",
    "Why is it useful?\n",
    "\n",
    "Improved Performance: By utilizing multiple CPU cores, multiprocessing can significantly speed up tasks that are computationally intensive.\n",
    "Better Resource Utilization: It allows your program to use the full potential of the CPU, especially on multi-core machines.\n",
    "Avoids GIL Limitation: Unlike multithreading in Python, multiprocessing bypasses the GIL, enabling true parallelism."
   ]
  },
  {
   "cell_type": "code",
   "execution_count": 3,
   "id": "2bb76d82-114d-43e1-b90a-0ae44143bf7d",
   "metadata": {},
   "outputs": [],
   "source": [
    "#Q2. What are the differences between multiprocessing and multithreading?"
   ]
  },
  {
   "cell_type": "markdown",
   "id": "668ccb10-99c1-43ed-bfa1-845dcec370de",
   "metadata": {},
   "source": [
    "ans:-\n",
    "1.Multiprocessing:\n",
    "\n",
    "Definition: Uses multiple processes to execute tasks.\n",
    "\n",
    "Memory: Each process has its own separate memory space.\n",
    "\n",
    "CPU Bound: More effective for CPU-bound tasks, as each process can run on a different CPU core.\n",
    "\n",
    "I/O Bound: Not specifically optimized for I/O-bound tasks.\n",
    "\n",
    "Communication: Requires inter-process communication (IPC) to share data between processes.\n",
    "\n",
    "Overhead: Higher overhead due to the need to create and manage separate processes.\n",
    "\n",
    "Crash Impact: If one process crashes, it does not affect the other processes.\n",
    "\n",
    "Use Case: Best for tasks requiring significant CPU resources or isolation between tasks.\n",
    "\n",
    "2.Multithreading:\n",
    "\n",
    "Definition: Uses multiple threads within a single process to execute tasks.\n",
    "\n",
    "Memory: Threads share the same memory space within the process.\n",
    "\n",
    "CPU Bound: Less effective for CPU-bound tasks in some languages due to the Global Interpreter Lock (GIL).\n",
    "\n",
    "I/O Bound: Better suited for I/O-bound tasks, as threads can perform I/O operations while others are executing.\n",
    "\n",
    "Communication: Threads can easily communicate with each other through shared memory.\n",
    "\n",
    "Overhead: Lower overhead compared to multiprocessing due to lighter thread creation and management.\n",
    "\n",
    "Crash Impact: If one thread crashes, it may affect the entire process.\n",
    "\n",
    "Use Case: Ideal for tasks requiring concurrent operations with minimal isolation between tasks.\n",
    "\n",
    "\n",
    "\n",
    "\n",
    "\n"
   ]
  },
  {
   "cell_type": "code",
   "execution_count": 4,
   "id": "03e8c932-3962-469a-8504-354fc8f106d2",
   "metadata": {},
   "outputs": [],
   "source": [
    "#Q3. Write a python code to create a process using the multiprocessing module."
   ]
  },
  {
   "cell_type": "code",
   "execution_count": null,
   "id": "d5752599-8593-4408-a88c-a15a1e08ad50",
   "metadata": {},
   "outputs": [],
   "source": [
    "ans:-\n",
    "import multiprocessing\n",
    "import time\n",
    "\n",
    "# Define a function to be executed by the process\n",
    "def worker(num):\n",
    "    print(f\"Worker {num} started\")\n",
    "    time.sleep(2)  # Simulate a task taking some time\n",
    "    print(f\"Worker {num} finished\")\n",
    "\n",
    "if __name__ == \"__main__\":\n",
    "    # Create a list of processes\n",
    "    processes = []\n",
    "    \n",
    "    # Create and start new processes\n",
    "    for i in range(3):\n",
    "        process = multiprocessing.Process(target=worker, args=(i,))\n",
    "        processes.append(process)\n",
    "        process.start()\n",
    "    \n",
    "    # Wait for all processes to complete\n",
    "    for process in processes:\n",
    "        process.join()\n",
    "    \n",
    "    print(\"All processes are done.\")\n"
   ]
  },
  {
   "cell_type": "code",
   "execution_count": null,
   "id": "6c2d1ec8-500e-4213-933e-723f99cba56e",
   "metadata": {},
   "outputs": [],
   "source": [
    "#Q4. What is a multiprocessing pool in python? Why is it used?"
   ]
  },
  {
   "cell_type": "markdown",
   "id": "1081f4b0-0935-45cd-ad88-3cb9b1695719",
   "metadata": {},
   "source": [
    " ans:-\n",
    "multiprocessing pool in Python is a way to manage and utilize multiple processes more efficiently, particularly when you have a large number of tasks that need to be performed in parallel. It is provided by the multiprocessing module and is designed to simplify parallel processing by pooling a fixed number of worker processes and distributing tasks among them.\n",
    "\n",
    "What is a Multiprocessing Pool?\n",
    "\n",
    "The multiprocessing.Pool class creates a pool of worker processes that can execute tasks concurrently. The pool manages a pool of worker processes, which allows you to distribute tasks to these processes and handle their results more easily.\n",
    "\n",
    "Why is it Used?\n",
    "\n",
    "Efficient Task Distribution: The pool distributes tasks to the worker processes, managing the scheduling and execution, which helps avoid the overhead of manually creating and managing each process.\n",
    "\n",
    "Resource Management: By pooling a fixed number of worker processes, you can limit the number of processes running simultaneously, which can help manage system resources more efficiently.\n",
    "\n",
    "Simplified Code: Using a pool can simplify code when performing parallel computations. It provides high-level methods for distributing tasks and gathering results, making parallel programming easier.\n",
    "\n",
    "Improved Performance: For CPU-bound tasks, a pool can lead to better performance by utilizing multiple CPU cores to perform computations in parallel."
   ]
  },
  {
   "cell_type": "code",
   "execution_count": 5,
   "id": "2591a2da-79b7-4217-91bd-301bb89c2f7a",
   "metadata": {},
   "outputs": [],
   "source": [
    "#Q5. How can we create a pool of worker processes in python using the multiprocessing module?"
   ]
  },
  {
   "cell_type": "code",
   "execution_count": null,
   "id": "160250dc-f455-43c9-92e8-933f972bcbf8",
   "metadata": {},
   "outputs": [],
   "source": [
    "ans:-\n",
    "step-by-Step Guide\n",
    "\n",
    "1.Import the Module:\n",
    "You need to import the multiprocessing module to access the Pool class.\n",
    "\n",
    "2.Define a Function:\n",
    "Define the function that you want to execute in parallel. This function will be applied to each item in the input data.\n",
    "\n",
    "3.Create the Pool:\n",
    "Instantiate a Pool object, specifying the number of worker processes. If you don’t specify the number of processes, it defaults to the number of available CPU cores.\n",
    "\n",
    "4.Distribute Tasks:\n",
    "Use methods such as map, apply, apply_async, or starmap to distribute tasks to the worker processes.\n",
    "\n",
    "5.Close the Pool:\n",
    "After submitting tasks, you should close the pool to prevent any more tasks from being submitted.\n",
    "\n",
    "import multiprocessing\n",
    "\n",
    "# Define the function to be executed by each worker\n",
    "def square(n):\n",
    "    return n * n\n",
    "\n",
    "if __name__ == \"__main__\":\n",
    "    # Create a Pool with 4 worker processes\n",
    "    with multiprocessing.Pool(processes=4) as pool:\n",
    "        # Define a list of numbers to process\n",
    "        numbers = [1, 2, 3, 4, 5, 6, 7, 8, 9, 10]\n",
    "        \n",
    "        # Use the map method to apply the function to the list of numbers\n",
    "        results = pool.map(square, numbers)\n",
    "        \n",
    "        # Print the results\n",
    "        print(results)\n"
   ]
  },
  {
   "cell_type": "code",
   "execution_count": 6,
   "id": "8014622d-2b81-41fc-bb45-63b75e2b5748",
   "metadata": {},
   "outputs": [],
   "source": [
    "#Q6. Write a python program to create 4 processes, each process should print a different number using the\n",
    "#multiprocessing module in python."
   ]
  },
  {
   "cell_type": "code",
   "execution_count": null,
   "id": "b9b99841-1372-4c00-b2a1-b67f172eadad",
   "metadata": {},
   "outputs": [],
   "source": [
    "ans:-\n"
   ]
  }
 ],
 "metadata": {
  "kernelspec": {
   "display_name": "Python 3 (ipykernel)",
   "language": "python",
   "name": "python3"
  },
  "language_info": {
   "codemirror_mode": {
    "name": "ipython",
    "version": 3
   },
   "file_extension": ".py",
   "mimetype": "text/x-python",
   "name": "python",
   "nbconvert_exporter": "python",
   "pygments_lexer": "ipython3",
   "version": "3.10.8"
  }
 },
 "nbformat": 4,
 "nbformat_minor": 5
}
