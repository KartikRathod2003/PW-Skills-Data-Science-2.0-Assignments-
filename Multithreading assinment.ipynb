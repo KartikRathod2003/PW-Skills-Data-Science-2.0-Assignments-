{
 "cells": [
  {
   "cell_type": "code",
   "execution_count": 2,
   "id": "90d3da0b-5f03-4446-a728-092e433da2e3",
   "metadata": {},
   "outputs": [],
   "source": [
    "#Q1)what is multithreading in python? why is it used? Name the module used to handle threads in python"
   ]
  },
  {
   "cell_type": "markdown",
   "id": "381fb019-eaf4-4f75-93e6-3eec91460e21",
   "metadata": {},
   "source": [
    "ans:- Multithreading in Python involves running multiple threads (smaller units of a process) concurrently within a single program. This allows a program to perform multiple tasks at the same time, like handling user inputs while processing data in the background.\n",
    "\n",
    "Why is Multithreading Used?\n",
    "\n",
    "Improved Performance: It can improve the performance of programs by utilizing idle CPU time.\n",
    "Concurrent Execution: Enables concurrent execution of tasks, which can lead to faster and more efficient program behavior, especially in I/O-bound applications like web servers.\n",
    "Responsiveness: Keeps programs responsive by offloading time-consuming tasks to separate threads.\n",
    "Module for Handling Threads in Python:\n",
    "The module used to handle threads in Python is called threading. This module provides a high-level interface to work with threads, allowing you to create, manage, and synchronize them.\n",
    "\n",
    "Would you like to explore how to create threads using the threading module, or perhaps look into some practical examples of multithreading?\n"
   ]
  },
  {
   "cell_type": "code",
   "execution_count": 3,
   "id": "f69fc6ca-a250-48ed-82a0-f78fbec79867",
   "metadata": {},
   "outputs": [],
   "source": [
    "#Q.1) why threading module used? write the use of the following functions"
   ]
  },
  {
   "cell_type": "markdown",
   "id": "55f62bec-79e7-436d-bbf5-68cc71e10287",
   "metadata": {},
   "source": [
    "ans:- Why is the threading Module Used?\n",
    "The threading module in Python is used to create and manage multiple threads within a single program. It allows you to run different parts of your code concurrently, which can improve the program's performance, especially in I/O-bound tasks. By using threads, you can perform background operations without blocking the main program, making it more responsive and efficient.\n",
    "\n",
    "\n",
    "Uses of the Following threading Functions:\n",
    "1.threading.activeCount():\n",
    "\n",
    "Use: Returns the number of Thread objects currently alive. This includes all threads that are still running, excluding those that have completed or have not been started yet.\n",
    "\n",
    "2.threading.currentThread():\n",
    "\n",
    "Use: Returns the Thread object representing the thread from which it is called. This function is useful when you want to get information about the currently executing thread.\n",
    "\n",
    "3.threading.enumerate():\n",
    "\n",
    "Use: Returns a list of all Thread objects currently alive. This includes all threads that are running or have been started, excluding those that have been terminated.\n"
   ]
  },
  {
   "cell_type": "code",
   "execution_count": 4,
   "id": "e39e84e6-9d97-43b5-9837-3f711d18ef0a",
   "metadata": {},
   "outputs": [],
   "source": [
    "#Q.3) Explain the following functions"
   ]
  },
  {
   "cell_type": "markdown",
   "id": "472571d2-4e8f-4533-90fd-5b3dce62adda",
   "metadata": {},
   "source": [
    "ans:-\n",
    "1)run():\n",
    "\n",
    "Use: Defines the code that will be executed when the thread starts. You typically don't call run() directly; instead, you override this method in a subclass of Thread to define what the thread will do when it is run.\n",
    "\n",
    "2)join():\n",
    "\n",
    "Use: Waits for the thread to finish its execution. It blocks the calling thread until the thread whose join() method is called has terminated, ensuring that the program doesn't proceed until the thread is done.\n",
    "\n",
    "3)isAlive():\n",
    "\n",
    "Use: Checks if the thread is still running. Returns True if the thread is active (i.e., it has been started and has not yet finished execution), and False otherwise. Note that in Python 3.9 and later, this method is deprecated and replaced by is_alive().\n",
    "\n",
    "4)start():\n",
    "\n",
    "Use: Begins the thread’s activity. It calls the run() method in a separate thread, allowing the code within run() to execute concurrently with the rest of the program.\n"
   ]
  },
  {
   "cell_type": "code",
   "execution_count": null,
   "id": "838fcbbc-eca8-43d3-b6f6-d2847d8e2336",
   "metadata": {},
   "outputs": [],
   "source": [
    "#Q.4)4. write a python program to create two threads. Thread one must print the list of squares and thread\n",
    "#two must print the list of cubes"
   ]
  },
  {
   "cell_type": "code",
   "execution_count": null,
   "id": "9027bc4b-0317-4a84-a468-3f4b269a848a",
   "metadata": {},
   "outputs": [],
   "source": [
    "ans:-\n",
    "import threading\n",
    "\n",
    "# Function to print squares\n",
    "def print_squares(numbers):\n",
    "    for n in numbers:\n",
    "        print(f\"Square of {n}: {n**2}\")\n",
    "\n",
    "# Function to print cubes\n",
    "def print_cubes(numbers):\n",
    "    for n in numbers:\n",
    "        print(f\"Cube of {n}: {n**3}\")\n",
    "\n",
    "# List of numbers\n",
    "numbers = [1, 2, 3, 4, 5]\n",
    "\n",
    "# Creating threads\n",
    "thread1 = threading.Thread(target=print_squares, args=(numbers,))\n",
    "thread2 = threading.Thread(target=print_cubes, args=(numbers,))\n",
    "\n",
    "# Starting threads\n",
    "thread1.start()\n",
    "thread2.start()\n",
    "\n",
    "# Waiting for both threads to finish\n",
    "thread1.join()\n",
    "thread2.join()\n",
    "\n",
    "print(\"Both threads have finished execution.\")\n"
   ]
  },
  {
   "cell_type": "code",
   "execution_count": 5,
   "id": "2b4c1c65-e498-4e91-be43-51174863020b",
   "metadata": {},
   "outputs": [],
   "source": [
    "#Q.5)State advantages and disadvantages of multithreading"
   ]
  },
  {
   "cell_type": "markdown",
   "id": "7a47ee28-597f-4f1e-83ea-97017fe08f53",
   "metadata": {},
   "source": [
    "ans:-\n",
    "Advantages of Multithreading:-\n",
    "\n",
    "Improved Performance:\n",
    "\n",
    "Multithreading can enhance performance by utilizing idle CPU time, especially in I/O-bound tasks (like reading files or making network requests), leading to faster overall execution.\n",
    "Concurrent Execution:\n",
    "\n",
    "Multiple tasks can run concurrently, making the application more responsive. For example, a user interface can remain responsive while performing background operations.\n",
    "Efficient Resource Use:\n",
    "\n",
    "Threads share the same memory space, which reduces the overhead compared to running multiple processes, where each process has its own memory space."
   ]
  }
 ],
 "metadata": {
  "kernelspec": {
   "display_name": "Python 3 (ipykernel)",
   "language": "python",
   "name": "python3"
  },
  "language_info": {
   "codemirror_mode": {
    "name": "ipython",
    "version": 3
   },
   "file_extension": ".py",
   "mimetype": "text/x-python",
   "name": "python",
   "nbconvert_exporter": "python",
   "pygments_lexer": "ipython3",
   "version": "3.10.8"
  }
 },
 "nbformat": 4,
 "nbformat_minor": 5
}
