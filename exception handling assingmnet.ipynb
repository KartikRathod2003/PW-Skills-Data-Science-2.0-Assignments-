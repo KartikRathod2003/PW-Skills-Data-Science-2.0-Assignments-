{
 "cells": [
  {
   "cell_type": "code",
   "execution_count": 2,
   "id": "3a7decab-be9c-40a2-be7b-7603ec770e13",
   "metadata": {},
   "outputs": [],
   "source": [
    "EXCEPTION HANDLING ASSIGNMENT NO:-1"
   ]
  },
  {
   "cell_type": "code",
   "execution_count": null,
   "id": "f5d50e69-fdb5-4f9c-8cd0-4d74f5af38cd",
   "metadata": {},
   "outputs": [],
   "source": [
    "ASSINGMENT"
   ]
  },
  {
   "cell_type": "code",
   "execution_count": null,
   "id": "66776bea-8bb1-4981-aba4-83d3e5283094",
   "metadata": {},
   "outputs": [],
   "source": [
    "#Q.1)what is exception in python? write a diffrence between exception and error."
   ]
  },
  {
   "cell_type": "markdown",
   "id": "a9a54735-3d9b-40e4-9b61-4876a243619a",
   "metadata": {},
   "source": [
    "ans:- An error is an issue in a program that prevents the program from completing its task. In comparison, an exception is a condition that interrupts the normal flow of the program\n",
    "An Exception is an error that happens during the execution of a program."
   ]
  },
  {
   "cell_type": "code",
   "execution_count": 3,
   "id": "9e4f2921-06d9-42c1-b06c-7e82d3d8e17d",
   "metadata": {},
   "outputs": [],
   "source": [
    "#Q.2)what happend when exception is not handle?explain with example."
   ]
  },
  {
   "cell_type": "markdown",
   "id": "feb70d40-75ac-4dda-99cc-5e0c3b362911",
   "metadata": {},
   "source": [
    "ANS:-What happens if an exception is not caught? If an exception is not caught (with a catch block), the runtime system will abort the program (i.e. crash) and an exception message will print to the console."
   ]
  },
  {
   "cell_type": "code",
   "execution_count": 4,
   "id": "7cdb0e4e-63ca-4195-91bd-83474603ce1e",
   "metadata": {},
   "outputs": [],
   "source": [
    "#Q.3)which python statament are used to catch and handle exception? explain with an example."
   ]
  },
  {
   "cell_type": "markdown",
   "id": "b8a48cf2-7be3-4712-8612-b92c14643632",
   "metadata": {},
   "source": [
    "ans:-Try and except statements are used to catch and handle exceptions in Python. Statements that can raise exceptions are kept inside the try clause and the statements that handle the exception are written inside except clause."
   ]
  },
  {
   "cell_type": "code",
   "execution_count": 5,
   "id": "9bc2dac7-777e-4844-a98f-c9577d7dca3d",
   "metadata": {},
   "outputs": [],
   "source": [
    "#Q.4) explain with example"
   ]
  },
  {
   "cell_type": "markdown",
   "id": "4d15280e-3118-46b7-b91b-27ad9404a918",
   "metadata": {},
   "source": [
    "ans:- 1)try and else: The try block lets you test a block of code for errors. The except block lets you handle the error. The else block lets you execute code when there is no error. The finally block lets you execute code, regardless of the result of the try- and except blocks.\n",
    "\n",
    "2)finally:-A finally block always executes, regardless of whether an exception is thrown. The following code example uses a try / catch block to catch an ArgumentOutOfRangeException. The Main method creates two arrays and attempts to copy one to the other.\n",
    "\n",
    "3)raise:-The raise keyword is used to raise an exception. You can define what kind of error to raise, and the text to print to the user. except is a keyword (case-sensitive) in python, it is used to raise an Exception/Error with a customized message and stops the execution of the programs."
   ]
  },
  {
   "cell_type": "code",
   "execution_count": 6,
   "id": "85f6c484-c4e4-4177-b82c-e7b88d0bc4c9",
   "metadata": {},
   "outputs": [],
   "source": [
    "#Q.5)what are Custom Exception in python? why do we need custom exception? explain with example."
   ]
  },
  {
   "cell_type": "markdown",
   "id": "820d4dcb-cadc-48c5-8a49-c1137a123992",
   "metadata": {},
   "source": [
    "ans:-Custom exceptions are helpful in many situations. They allow you to define your own error conditions and handle them in a more specific and meaningful way. For example, let's say you are writing a program that reads data from a file. If the file is not found, Python will raise a FileNotFoundError ."
   ]
  },
  {
   "cell_type": "code",
   "execution_count": 7,
   "id": "0efcc9da-c19a-48d3-9939-bfe7f1692c09",
   "metadata": {},
   "outputs": [],
   "source": [
    "#Q.6) create custom exception class. used this class to handle an excepion."
   ]
  },
  {
   "cell_type": "markdown",
   "id": "019b1619-012b-4105-9af0-49c42f36c88a",
   "metadata": {},
   "source": [
    "ans:- In order to create custom exception, we need to extend Exception class that belongs to java.lang package. Consider the following example, where we create a custom exception named WrongFileNameException: public class WrongFileNameException extends Exception { public WrongFileNameException(String errorMessage) "
   ]
  }
 ],
 "metadata": {
  "kernelspec": {
   "display_name": "Python 3 (ipykernel)",
   "language": "python",
   "name": "python3"
  },
  "language_info": {
   "codemirror_mode": {
    "name": "ipython",
    "version": 3
   },
   "file_extension": ".py",
   "mimetype": "text/x-python",
   "name": "python",
   "nbconvert_exporter": "python",
   "pygments_lexer": "ipython3",
   "version": "3.10.8"
  }
 },
 "nbformat": 4,
 "nbformat_minor": 5
}
