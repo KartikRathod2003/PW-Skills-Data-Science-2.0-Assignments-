{
 "cells": [
  {
   "cell_type": "code",
   "execution_count": 2,
   "id": "d8a03d8e-d4a3-4342-95f9-c5b6d36858fb",
   "metadata": {},
   "outputs": [],
   "source": [
    "Exception handling-2"
   ]
  },
  {
   "cell_type": "code",
   "execution_count": null,
   "id": "4719ceae-c2b9-4b85-a5ed-7b10e2e54c3e",
   "metadata": {},
   "outputs": [],
   "source": [
    "#Q.1)Explain why we have to use the Exception class while creating a Custom Exception."
   ]
  },
  {
   "cell_type": "markdown",
   "id": "8e023147-603d-4fea-b6b6-a9b8554e4224",
   "metadata": {},
   "source": [
    "ans:-Custom exceptions provide you the flexibility to add attributes and methods that are not part of a standard Java exception. These can store additional information, like an application-specific error code, or provide utility methods that can be used to handle or present the exception to a user."
   ]
  },
  {
   "cell_type": "code",
   "execution_count": 4,
   "id": "10525209-4591-4362-bffc-23628823abb6",
   "metadata": {},
   "outputs": [],
   "source": [
    "#Q.2)Write a python program to print Python Exception Hierarchy."
   ]
  },
  {
   "cell_type": "raw",
   "id": "d2aacb8b-0dfb-486c-ac76-87b7b84b81cd",
   "metadata": {},
   "source": [
    "#ans:- def print_exception_hierarchy(exc_type, indent=0):\n",
    "    \"\"\"\n",
    "    Recursively print the exception hierarchy starting from exc_type.\n",
    "    \"\"\"\n",
    "    print(' ' * indent + exc_type._name_)\n",
    "    for subclass in exc_type._subclasses_():\n",
    "        print_exception_hierarchy(subclass, indent + 4)\n",
    "\n",
    "def main():\n",
    "    print(\"Python Exception Hierarchy:\")\n",
    "    print_exception_hierarchy(BaseException)\n",
    "\n",
    "if _name_ == \"_main_\":\n",
    "    main()"
   ]
  },
  {
   "cell_type": "code",
   "execution_count": 9,
   "id": "c982cb02-e1bf-4d76-a220-269ca1b62214",
   "metadata": {},
   "outputs": [],
   "source": [
    "#Q3. What errors are defined in the ArithmeticError class? Explain any two with an example."
   ]
  },
  {
   "cell_type": "markdown",
   "id": "03fb736f-c021-411d-be20-b03ac97b420a",
   "metadata": {},
   "source": [
    "ans:-n Python, ArithmeticError is a base class for all errors related to arithmetic operations. The primary exceptions derived from ArithmeticError include:\n",
    "\n",
    "1.ZeroDivisionError\n",
    "2.OverflowError\n",
    "3.FloatingPointError\n",
    "1.ZeroDivisionError\n",
    "This exception is raised when a division or modulo operation is performed with zero as the divisor.\n",
    "\n",
    "try:\n",
    "    result = 10 / 0\n",
    "except ZeroDivisionError as e:\n",
    "    print(f\"Error: {e}\")\n",
    "    \n",
    "2.OverflowError\n",
    "This exception occurs when an arithmetic operation results in a number that is too large to be expressed within the numeric limits of the data type. \n",
    "\n",
    "import sys\n",
    "\n",
    "try:\n",
    "    result = sys.maxsize * 2\n",
    "except OverflowError as e:\n",
    "    print(f\"Error: {e}\")"
   ]
  },
  {
   "cell_type": "code",
   "execution_count": 12,
   "id": "8fbce651-7a0d-4291-aafb-5c742a1935af",
   "metadata": {},
   "outputs": [],
   "source": [
    "#Q4. Why LookupError class is used? Explain with an example KeyError and IndexError."
   ]
  },
  {
   "cell_type": "markdown",
   "id": "26821a93-385e-48cc-acc4-c12f648cafda",
   "metadata": {},
   "source": [
    "ans:-The LookupError class is used as a base class for exceptions that occur when a lookup operation fails. It provides a common base for more specific exceptions like KeyError and IndexError, which are raised when key or index operations fail, respectively.\n",
    "\n",
    "1.KeyError\n",
    "A KeyError is raised when a dictionary key is not found in the dictionary.\n",
    "example:my_dict = {'apple': 1, 'banana': 2}\n",
    "\n",
    "try:\n",
    "    value = my_dict['orange']\n",
    "except KeyError as e:\n",
    "    print(f\"Error: {e}\")\n",
    "    \n",
    "2.IndexError\n",
    "An IndexError is raised when a sequence index is out of range, meaning the index is either too high or too low for the sequence. \n",
    "example:\n",
    "my_list = [1, 2, 3]\n",
    "\n",
    "try:\n",
    "    value = my_list[5]\n",
    "except IndexError as e:\n",
    "    print(f\"Error: {e}\")"
   ]
  },
  {
   "cell_type": "code",
   "execution_count": 13,
   "id": "e35299c0-bb5e-425f-9c94-ad9b03f00c21",
   "metadata": {},
   "outputs": [],
   "source": [
    "#Q5. Explain ImportError. What is ModuleNotFoundError?"
   ]
  },
  {
   "cell_type": "markdown",
   "id": "b828d9b4-b15c-422f-a804-943124bb55e7",
   "metadata": {},
   "source": [
    "ans:-\n",
    "1.ImportError\n",
    "Definition: Raised when an import statement fails to import a module.\n",
    "example:\n",
    "    try:\n",
    "    import non_existent_module\n",
    "except ImportError as e:\n",
    "    print(f\"ImportError: {e}\")\n",
    "    \n",
    "2. ModuleNotFoundError\n",
    "Definition: A subclass of ImportError introduced in Python 3.6, specifically for cases where a module cannot be found.    \n",
    "example:\n",
    "try:\n",
    "    import some_unknown_module\n",
    "except ModuleNotFoundError as e:\n",
    "    print(f\"ModuleNotFoundError: {e}\")"
   ]
  },
  {
   "cell_type": "code",
   "execution_count": 14,
   "id": "f7eab151-59e9-49e1-af3f-c3fd4481c553",
   "metadata": {},
   "outputs": [],
   "source": [
    "#Q6. List down some best practices for exception handling in python."
   ]
  },
  {
   "cell_type": "markdown",
   "id": "956b58dd-8c3f-4eec-a298-c5953ddc6c83",
   "metadata": {},
   "source": [
    "ans:-\n",
    "1.Catch Specific Exceptions: Handle specific exceptions, not broad ones.\n",
    "\n",
    "2.Avoid Bare except: Don't use a bare except; catch specific exceptions.\n",
    "\n",
    "3.Use finally: For cleanup actions that need to run regardless of exceptions.\n",
    "\n",
    "3.Log Exceptions: Log errors for debugging.\n",
    "\n",
    "4.Raise Exceptions with Context: Provide clear messages when raising exceptions.\n",
    "\n",
    "5.Avoid Empty except Blocks: Don’t use empty blocks; handle exceptions meaningfully.\n",
    "\n",
    "6.Use Custom Exceptions: Define custom exceptions for specific errors.\n",
    "\n",
    "7.Handle Exceptions Appropriately: Catch exceptions where they can be effectively managed."
   ]
  }
 ],
 "metadata": {
  "kernelspec": {
   "display_name": "Python 3 (ipykernel)",
   "language": "python",
   "name": "python3"
  },
  "language_info": {
   "codemirror_mode": {
    "name": "ipython",
    "version": 3
   },
   "file_extension": ".py",
   "mimetype": "text/x-python",
   "name": "python",
   "nbconvert_exporter": "python",
   "pygments_lexer": "ipython3",
   "version": "3.10.8"
  }
 },
 "nbformat": 4,
 "nbformat_minor": 5
}
